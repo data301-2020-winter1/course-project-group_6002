{
 "cells": [
  {
   "cell_type": "code",
   "execution_count": 1,
   "metadata": {},
   "outputs": [],
   "source": [
    "import pandas as pd\n",
    "import numpy as np\n",
    "import matplotlib.pyplot as plt\n",
    "import seaborn as sns\n",
    "import statistics as stsc"
   ]
  },
  {
   "cell_type": "code",
   "execution_count": 2,
   "metadata": {},
   "outputs": [],
   "source": [
    "def load_and_process_all(filePath):\n",
    "    import pandas as pd\n",
    "    import statistics as stsc\n",
    "    dfClean = (\n",
    "        pd.read_csv(filePath,\n",
    "        usecols = [\"Rank\", \"Name\", \"Publisher\", \"Platform\", \"Genre\", \"Global_Sales\", \"Year\"]) # So far our only focus of work\n",
    "        .sort_values(by= \"Global_Sales\", ascending = False) # Cash money check\n",
    "        .loc[lambda x: x[\"Year\"] >= 2000] # Check for only recent games\n",
    "        .dropna(axis = 0, thresh = 3) # Drop any NA values completely\n",
    "        .loc[lambda x: x[\"Global_Sales\"].between(15, 90.00)]\n",
    "        #Excessive low number sales mess up our median so we are removing it for now by specifying values between 15-90\n",
    "        .reset_index(drop=True) # Reset index so we don't mess up orders\n",
    "    )\n",
    "\n",
    "\n",
    "    dfWii = (\n",
    "        dfClean\n",
    "        .loc[lambda x: x[\"Rank\"] <= 3500] # Nothing ranked lower than 2500\n",
    "        .assign(Averaged_Sales = lambda x: x[\"Global_Sales\"]/stsc.median(dfClean[\"Global_Sales\"])) #Putting the sales number over its median to try and mitigate issues from the outliers\n",
    "        .sort_values(by= \"Averaged_Sales\", ascending = False) # Re-sort in case any vales got changed\n",
    "        .reset_index(drop = True) # Order things nicely\n",
    "    )\n",
    "    \n",
    "    return dfWii"
   ]
  },
  {
   "cell_type": "code",
   "execution_count": 3,
   "metadata": {},
   "outputs": [
    {
     "ename": "TypeError",
     "evalue": "read_csv() missing 1 required positional argument: 'filepath_or_buffer'",
     "output_type": "error",
     "traceback": [
      "\u001b[1;31m---------------------------------------------------------------------------\u001b[0m",
      "\u001b[1;31mTypeError\u001b[0m                                 Traceback (most recent call last)",
      "\u001b[1;32m<ipython-input-3-5b2319696b79>\u001b[0m in \u001b[0;36m<module>\u001b[1;34m\u001b[0m\n\u001b[1;32m----> 1\u001b[1;33m \u001b[0mdf\u001b[0m \u001b[1;33m=\u001b[0m \u001b[0mpd\u001b[0m\u001b[1;33m.\u001b[0m\u001b[0mread_csv\u001b[0m\u001b[1;33m(\u001b[0m\u001b[1;33m)\u001b[0m\u001b[1;33m\u001b[0m\u001b[1;33m\u001b[0m\u001b[0m\n\u001b[0m",
      "\u001b[1;31mTypeError\u001b[0m: read_csv() missing 1 required positional argument: 'filepath_or_buffer'"
     ]
    }
   ],
   "source": [
    "df = pd.read_csv(\"\")"
   ]
  },
  {
   "cell_type": "code",
   "execution_count": null,
   "metadata": {},
   "outputs": [],
   "source": []
  }
 ],
 "metadata": {
  "kernelspec": {
   "display_name": "Python 3.8",
   "language": "python",
   "name": "python3"
  },
  "language_info": {
   "codemirror_mode": {
    "name": "ipython",
    "version": 3
   },
   "file_extension": ".py",
   "mimetype": "text/x-python",
   "name": "python",
   "nbconvert_exporter": "python",
   "pygments_lexer": "ipython3",
   "version": "3.8.6"
  }
 },
 "nbformat": 4,
 "nbformat_minor": 4
}
